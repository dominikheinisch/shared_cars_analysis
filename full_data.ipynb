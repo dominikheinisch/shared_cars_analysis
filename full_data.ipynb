{
 "cells": [
  {
   "cell_type": "markdown",
   "id": "blind-constitution",
   "metadata": {
    "tags": []
   },
   "source": [
    "## Importing data\n",
    "source: https://www.kaggle.com/gidutz/autotel-shared-car-locations?select=2020_02_25.csv"
   ]
  },
  {
   "cell_type": "markdown",
   "id": "sorted-nomination",
   "metadata": {},
   "source": [
    "## Loading data"
   ]
  },
  {
   "cell_type": "code",
   "execution_count": 1,
   "id": "economic-marking",
   "metadata": {
    "tags": []
   },
   "outputs": [],
   "source": [
    "import pandas as pd\n",
    "\n",
    "\n",
    "DATASETS_DIR = 'datasets/'\n",
    "SOURCE_FILE = DATASETS_DIR + 'shared-car-locations-2020_02_25.csv'\n",
    "\n",
    "\n",
    "def read_data(file=SOURCE_FILE):\n",
    "    return pd.read_csv(file)\n",
    "\n",
    "\n",
    "df = read_data()"
   ]
  },
  {
   "cell_type": "markdown",
   "id": "caroline-sculpture",
   "metadata": {},
   "source": [
    "## Filtering non-empy"
   ]
  },
  {
   "cell_type": "code",
   "execution_count": 2,
   "id": "sexual-dependence",
   "metadata": {},
   "outputs": [
    {
     "name": "stdout",
     "output_type": "stream",
     "text": [
      "(10778639, 4)\n"
     ]
    }
   ],
   "source": [
    "NON_EMPTY_FILE = DATASETS_DIR + 'non-empty.csv'\n",
    "\n",
    "\n",
    "def create_non_empty(df):\n",
    "    df = df[df['total_cars'] > 0]\n",
    "    del df['total_cars']\n",
    "    df.to_csv(NON_EMPTY_FILE, index=False)\n",
    "    print(df.shape)\n",
    "\n",
    "    \n",
    "create_non_empty(df)"
   ]
  },
  {
   "cell_type": "markdown",
   "id": "dangerous-block",
   "metadata": {},
   "source": [
    "## Creating sample file"
   ]
  },
  {
   "cell_type": "code",
   "execution_count": 3,
   "id": "amended-packing",
   "metadata": {},
   "outputs": [],
   "source": [
    "SAMPLE_FILE = DATASETS_DIR + 'shared-cars-sample.csv'\n",
    "SAMPLE_ROWS = 1500000\n",
    "\n",
    "\n",
    "def create_sample():\n",
    "    df = pd.read_csv(NON_EMPTY_FILE)\n",
    "    df[:SAMPLE_ROWS].to_csv(SAMPLE_FILE, index=False)\n",
    "\n",
    "    \n",
    "create_sample()"
   ]
  }
 ],
 "metadata": {
  "kernelspec": {
   "display_name": "Python 3",
   "language": "python",
   "name": "python3"
  },
  "language_info": {
   "codemirror_mode": {
    "name": "ipython",
    "version": 3
   },
   "file_extension": ".py",
   "mimetype": "text/x-python",
   "name": "python",
   "nbconvert_exporter": "python",
   "pygments_lexer": "ipython3",
   "version": "3.8.3"
  }
 },
 "nbformat": 4,
 "nbformat_minor": 5
}
